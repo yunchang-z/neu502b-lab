{
 "cells": [
  {
   "cell_type": "markdown",
   "id": "adjusted-format",
   "metadata": {},
   "source": [
    "# `fmri-06`: Functional connectivity\n",
    "This demo introduces functional connectivity analysis on resting-state data. Resting-state paradigms generally have no external experimental stimulus or behavioral output; however, brain systems will continue to fluctuate over time as we ruminate. Functional connectivity analysis captures correlations between the intrinsic flucutations of different brain areas across time. Due to the lack of external variables, resting-state data are typically limited to functional connectivity analyses; on the other hand, functional connectivity analyses can be applied to non-resting-state data (e.g. recall the ISFC analysis from `fmri-11`). We'll first perform a seed-based connectivity analysis, then use the full functional connectivity matrix to create a functional parcellation of cortex."
   ]
  },
  {
   "cell_type": "code",
   "execution_count": null,
   "id": "acoustic-enemy",
   "metadata": {},
   "outputs": [],
   "source": [
    "import numpy as np\n",
    "import matplotlib.pyplot as plt\n",
    "import seaborn as sns"
   ]
  },
  {
   "cell_type": "markdown",
   "id": "metallic-criticism",
   "metadata": {},
   "source": [
    "### The NKI-Rockland sample\n",
    "We'll explore functional connectivity analysis on a public resting-state dataset provided by [Nooner et al., 2012](https://doi.org/10.3389/fnins.2012.00152). These data comprise ~10-minute resting-state runs with a rapid TR of 0.645 s.  These data were preprocessed and spatially normalized to the fsaverage5 cortical surface template. We'll begin with one subject. We'll also use an anatomically-defined surface-based cortical parcellation to guide our analysis ([Destrieux et al., 2010](https://doi.org/10.1016/j.neuroimage.2010.06.010))."
   ]
  },
  {
   "cell_type": "code",
   "execution_count": null,
   "id": "junior-shopping",
   "metadata": {},
   "outputs": [],
   "source": [
    "# Load NKI-Rockland resting-state dataset\n",
    "from nilearn import datasets\n",
    "\n",
    "data_dir = '/Users/snastase/Work/neu502b-2023/nilearn-data'\n",
    "nki_dataset = datasets.fetch_surf_nki_enhanced(n_subjects=1,\n",
    "                                               data_dir=data_dir)\n",
    "\n",
    "# Load the fsaverage5 cortical surface template\n",
    "fsaverage5 = datasets.fetch_surf_fsaverage()\n",
    "\n",
    "# Load Destrieux anatomical atlas for fsaverage5\n",
    "destrieux_atlas = datasets.fetch_atlas_surf_destrieux(data_dir=data_dir)\n",
    "parcellation = destrieux_atlas['map_left']\n",
    "labels = destrieux_atlas['labels']"
   ]
  },
  {
   "cell_type": "code",
   "execution_count": null,
   "id": "judicial-dimension",
   "metadata": {},
   "outputs": [],
   "source": [
    "# Extract functional data\n",
    "from nilearn import surface\n",
    "\n",
    "func_data = surface.load_surf_data(nki_dataset['func_left'][0]).T\n",
    "print(f\"Functional data shape: {func_data.shape}\")"
   ]
  },
  {
   "cell_type": "code",
   "execution_count": null,
   "id": "leading-stack",
   "metadata": {},
   "outputs": [],
   "source": [
    "# Plot Destrieux atlas\n",
    "from nilearn.plotting import plot_surf_roi\n",
    "plot_surf_roi(fsaverage5['pial_left'], roi_map=parcellation,\n",
    "                   hemi='left', view='medial', colorbar=True,\n",
    "                   bg_map=fsaverage5['sulc_left'], bg_on_data=True,\n",
    "                   darkness=.5, title='Destrieux atlas');\n",
    "\n",
    "plot_surf_roi(fsaverage5['pial_left'], roi_map=parcellation,\n",
    "                   hemi='left', view='lateral', colorbar=True,\n",
    "                   bg_map=fsaverage5['sulc_left'], bg_on_data=True,\n",
    "                   darkness=.5, title='Destrieux atlas');"
   ]
  },
  {
   "cell_type": "markdown",
   "id": "irish-immigration",
   "metadata": {},
   "source": [
    "### Seed-based functional connectivity\n",
    "In one of the simplest variations of functional connectivity analysis, we first choose a \"seed\" region and then compute the correlations between the seed time series and other brain areas. Here we compute the correlation between the average time series from our seed region and all other voxel time series in the cortex. We'll start with the dorsal part of the posterior cingulate—a member of the default-mode network (DMN)—but can try some other seed regions as well."
   ]
  },
  {
   "cell_type": "code",
   "execution_count": null,
   "id": "domestic-willow",
   "metadata": {},
   "outputs": [],
   "source": [
    "# Extract seed region via parcellation label\n",
    "roi_label = b'G_cingul-Post-dorsal'\n",
    "\n",
    "roi_vertices = np.where(parcellation == labels.index(roi_label))[0]"
   ]
  },
  {
   "cell_type": "markdown",
   "id": "10ae9388-629e-4c6f-92bb-51b1f506f755",
   "metadata": {},
   "source": [
    "Plot the ROI on the cortical surface using `plot_surf_roi` and then plot the mean BOLD time series for the ROI."
   ]
  },
  {
   "cell_type": "code",
   "execution_count": null,
   "id": "animated-fight",
   "metadata": {},
   "outputs": [],
   "source": [
    "# Transform ROI indices in ROI map\n",
    "roi_map = np.zeros(parcellation.shape[0], dtype=int)\n",
    "roi_map[roi_vertices] = 1\n",
    "\n",
    "# Plot ROI on surface:\n",
    "\n",
    "# Extract time series from seed region:\n",
    "\n",
    "# Plot seed time series:\n"
   ]
  },
  {
   "cell_type": "markdown",
   "id": "empty-trigger",
   "metadata": {},
   "source": [
    "Now that we've extracted the time series for our seed region, we loop through every voxel in the brain and compute the Pearson correlation between time series. This results in a seed-based functional connectivity map for our selected seed region."
   ]
  },
  {
   "cell_type": "code",
   "execution_count": null,
   "id": "subject-anderson",
   "metadata": {},
   "outputs": [],
   "source": [
    "# Compute seed-based functional connectivity map:\n",
    "from scipy.stats import pearsonr\n",
    "    \n",
    "# Plot surface map:\n",
    "from nilearn.plotting import plot_surf_stat_map\n"
   ]
  },
  {
   "cell_type": "markdown",
   "id": "determined-durham",
   "metadata": {},
   "source": [
    "### Functional connectivity matrices\n",
    "We can extend the logic of seed-based functional connectivity to every voxel in the brain, yielding a $v\\times v$ matrix where $v$ is the number of voxels (or regions) in the brain. We can use `numpy`'s `corrcoef` to compute the full correlation matrix (let's call it `fc_mat`), then reorganize this matrix to reflect the anatomically-defined parcels in our atlas. This captures a certain functional network strucure in the brain. Note that the diagonal of this matrix is not meaningful as it represents the time series at each brain area correlated with itself (i.e. $r = 1$); on the other hand, each row of this matrix corresponds to the seed-based functional connectivity map for the voxel or brain area at that row."
   ]
  },
  {
   "cell_type": "code",
   "execution_count": null,
   "id": "eastern-workshop",
   "metadata": {},
   "outputs": [],
   "source": [
    "# Compute full correlation matrix:\n",
    "\n",
    "# Sort data by ROI\n",
    "medial_label = labels.index(b'Medial_wall')\n",
    "sorter = np.argsort(parcellation[parcellation != medial_label])\n",
    "fc_sorted = fc_mat[sorter][:, sorter]\n",
    "\n",
    "# Plot sorted connectivity matrix:\n"
   ]
  },
  {
   "cell_type": "markdown",
   "id": "comic-shanghai",
   "metadata": {},
   "source": [
    "Next, we'll load in data for 5 subjects. We'll compute the full functional connectivity matrix for each subject. Note that we can't meaningfully average the time series across subjects because mental events and brain states are happenning at different times across subjects (since there's no shared stimulus driving the brain). However, we *can* average the functional connectivity matrices across subjects."
   ]
  },
  {
   "cell_type": "code",
   "execution_count": null,
   "id": "3a9a2ef0-fc24-4512-961a-6687149de459",
   "metadata": {},
   "outputs": [],
   "source": [
    "# Load in a larger sample of subjects\n",
    "n_subjects = 5\n",
    "\n",
    "nki_dataset = datasets.fetch_surf_nki_enhanced(n_subjects=n_subjects,\n",
    "                                               data_dir=data_dir)"
   ]
  },
  {
   "cell_type": "code",
   "execution_count": null,
   "id": "studied-tooth",
   "metadata": {},
   "outputs": [],
   "source": [
    "# Compute connectome for each subject and average:\n"
   ]
  },
  {
   "cell_type": "code",
   "execution_count": null,
   "id": "advisory-scene",
   "metadata": {},
   "outputs": [],
   "source": [
    "# Remove medial wall:\n",
    "\n",
    "# Sort by anatomical ROIs:\n",
    "\n",
    "# Plot mean connectivity matrix across subjects:\n"
   ]
  },
  {
   "cell_type": "markdown",
   "id": "indie-rider",
   "metadata": {},
   "source": [
    "Let's check how reliable the functional network structure is across subjects. We'll vectorize the off-diagonal connectivity values for each subject, then compute the pairwise correlations between the connectivity matrices for all subjects. This yields a $N\\times N$ matrix where $N$ is the number of subjects in our sample."
   ]
  },
  {
   "cell_type": "code",
   "execution_count": null,
   "id": "ruled-heating",
   "metadata": {},
   "outputs": [],
   "source": [
    "# Check correlation between individual subject FC matrices\n",
    "from scipy.spatial.distance import squareform\n",
    "\n",
    "# Vectorize off-diagonal connnectivity values:\n",
    "\n",
    "# Stack vectorized connectivity matrices:\n",
    "\n",
    "# Compute correlations between connectomes:\n"
   ]
  },
  {
   "cell_type": "code",
   "execution_count": null,
   "id": "cross-windows",
   "metadata": {},
   "outputs": [],
   "source": [
    "# Plot reliability of network structure across subjects:\n",
    "\n",
    "# Get mean correlation across pairs of subjects:\n"
   ]
  },
  {
   "cell_type": "markdown",
   "id": "abroad-limit",
   "metadata": {},
   "source": [
    "### Functional parcellation\n",
    "We can use clustering algorithms to \"discover\" structure in the full connectivity matrices. Use a clustering algorithm (e.g. `AgglomerativeClustering` or `KMeans` from `sklearn`) to cluster the connectivity matrix. For the sake of expediency, pick an arbitrary number of clusters (e.g. `n_clusters=7`). This results in a cluster label for every cortical voxel. This functional parcellation captures some well-known whole-brain networks."
   ]
  },
  {
   "cell_type": "code",
   "execution_count": null,
   "id": "diverse-rebate",
   "metadata": {},
   "outputs": [],
   "source": [
    "# Cluster functional connectivity:\n"
   ]
  },
  {
   "cell_type": "code",
   "execution_count": null,
   "id": "turned-colony",
   "metadata": {},
   "outputs": [],
   "source": [
    "# Reinsert cluster labels into full map:\n",
    "\n",
    "# Plot clusters:\n"
   ]
  },
  {
   "cell_type": "markdown",
   "id": "incomplete-teacher",
   "metadata": {},
   "source": [
    "#### References\n",
    "\n",
    "* Destrieux, C., Fischl, B., Dale, A., & Halgren, E. (2010). Automatic parcellation of human cortical gyri and sulci using standard anatomical nomenclature. *NeuroImage*, *53*(1), 1-15. https://doi.org/10.1016/j.neuroimage.2010.06.010\n",
    "\n",
    "* Nooner, K. B., Colcombe, S. J., Tobe, R. H., Mennes, M., Benedict, M. M., Moreno, A. L., Panek, L. J., Brown, S., Zavitz, S. T., Li, Q., Sikka, S., Gutman, D., Bangaru, S., Tziona Schlachter, R., Kamiel, S. M., Anwar, A. R., Hinz, C. M., Kaplan, M. S., Rachlin, A. B., Adelsberg, S., Cheung, B., Khanuja, R., Yan, C., Cradddock, R. C., Calhoun, V., Courtney, W., King, M., Wood, D., Cox, C. L., Kelly, A. M. C., Di Martino, A., Petkova, E., Reiss, P. T., Duan, N., Thomsen, D., Biswal, B., Coffey, B., Hoptman, M. J., Javitt, D. C., Pomara, N., Sidtis, J. J., Koplewicz, H. S., Castellanos, F. X., Leventhal, B. L., & Milham, M. (2012). The NKI-Rockland sample: a model for accelerating the pace of discovery science in psychiatry. *Frontiers in Neuroscience*, *6*, 152. https://doi.org/10.3389/fnins.2012.00152"
   ]
  }
 ],
 "metadata": {
  "kernelspec": {
   "display_name": "Python 3 (ipykernel)",
   "language": "python",
   "name": "python3"
  },
  "language_info": {
   "codemirror_mode": {
    "name": "ipython",
    "version": 3
   },
   "file_extension": ".py",
   "mimetype": "text/x-python",
   "name": "python",
   "nbconvert_exporter": "python",
   "pygments_lexer": "ipython3",
   "version": "3.9.5"
  }
 },
 "nbformat": 4,
 "nbformat_minor": 5
}
