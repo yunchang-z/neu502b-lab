{
 "cells": [
  {
   "cell_type": "markdown",
   "id": "peaceful-moldova",
   "metadata": {},
   "source": [
    "# `fmri-02`: Experimental design"
   ]
  },
  {
   "cell_type": "markdown",
   "id": "acceptable-variety",
   "metadata": {},
   "source": [
    "This lab introduces the hemodynamic response function (HRF) and some classical experimental designs. We'll convolve the HRF with a time series of neural activity to model the BOLD response. This lab also walks through some block and event-related design characteristics."
   ]
  },
  {
   "cell_type": "code",
   "execution_count": 1,
   "id": "77c408e3-fb23-4632-ac85-ef192f193c04",
   "metadata": {},
   "outputs": [],
   "source": [
    "import numpy as np\n",
    "import matplotlib.pyplot as plt\n",
    "import seaborn as sns"
   ]
  },
  {
   "cell_type": "markdown",
   "id": "62eeffe3-3e06-49ef-8e55-a6e42dc60795",
   "metadata": {},
   "source": [
    "### The hemodynamic response function\n",
    "First, we'll set some basic experimental parameters. Let's say our experiment (e.g. one scanner run) is 320 seconds (5.3 minutes) long, with a TR of 2 minutes. Recall that the TR describes the sampling rate of our fMRI data; we collect one full volume of brain data per TR."
   ]
  },
  {
   "cell_type": "code",
   "execution_count": 2,
   "id": "1f950430-3962-46db-8520-46b74e0e3b26",
   "metadata": {},
   "outputs": [],
   "source": [
    "duration = 320\n",
    "tr = 2\n",
    "n_trs = duration // tr"
   ]
  },
  {
   "cell_type": "markdown",
   "id": "6981ec4a-0049-49d1-a1b0-046485245c5d",
   "metadata": {},
   "source": [
    "Next, we'll load in a canonical hemodynamic response function (HRF) based on the difference of two gamma functions ([Glover, 1999](https://doi.org/10.1006/nimg.1998.0419))."
   ]
  },
  {
   "cell_type": "code",
   "execution_count": 3,
   "id": "f87282bb-75a2-4734-a4bf-ff5582912a13",
   "metadata": {},
   "outputs": [],
   "source": [
    "from nilearn.glm.first_level import glover_hrf\n",
    "hrf = glover_hrf(tr, oversampling=1, time_length=30)"
   ]
  },
  {
   "cell_type": "markdown",
   "id": "59add8df-86cd-4464-a390-30ac11f7afb5",
   "metadata": {},
   "source": [
    "Visualize this HRF below using `plt.plot` with an input `x` variable ranging from 0 to 30 seconds at intervals of 2 seconds to match the temporal resolution of the fMRI data. Try adjusting the `oversampling` variable (and `x` variable in the plot) to effectively resample the HRF."
   ]
  },
  {
   "cell_type": "code",
   "execution_count": 4,
   "id": "31495786-a290-43e2-8993-6d3aeced44bb",
   "metadata": {},
   "outputs": [],
   "source": [
    "# Plot HRF\n"
   ]
  },
  {
   "cell_type": "markdown",
   "id": "b28dc68c-bbc6-4ac7-9be8-291044afcbde",
   "metadata": {},
   "source": [
    "Next, we'll create a simple time series of impulses. In the context of an fMRI experiment, these might represent rapidly-occurring neural activity in response to briefly-presented stimuli."
   ]
  },
  {
   "cell_type": "code",
   "execution_count": 5,
   "id": "ce636072-fc8b-4378-917e-3a815ac0927c",
   "metadata": {},
   "outputs": [
    {
     "data": {
      "image/png": "[encoded data removed]",
      "text/plain": [
       "<Figure size 600x150 with 1 Axes>"
      ]
     },
     "metadata": {},
     "output_type": "display_data"
    }
   ],
   "source": [
    "onsets = [10, 30, 50]\n",
    "\n",
    "impulses = np.zeros(60)\n",
    "impulses[onsets] = 1\n",
    "\n",
    "fig, ax = plt.subplots(figsize=(6, 1.5))\n",
    "ax.plot(impulses, c='tab:blue')\n",
    "ax.set(xlabel='TRs', xlim=(0, 60), yticks=[])\n",
    "sns.despine()"
   ]
  },
  {
   "cell_type": "markdown",
   "id": "f5d2589a-2e50-4e36-aa27-d91986c83631",
   "metadata": {},
   "source": [
    "Let's visualize how the HRF would transform these impulses. Use `np.convolve` to convolve the above HRF with the impulse time series. (Make sure you reset the HRF to the correct TR are `oversampling` factor to match the impulse time series.) Plot the resulting time series. What does this time series represent?"
   ]
  },
  {
   "cell_type": "code",
   "execution_count": 6,
   "id": "34f159c7-007e-4748-9ebd-3e2ca528c301",
   "metadata": {},
   "outputs": [],
   "source": [
    "# Convolve impulses with HRF and plot\n"
   ]
  },
  {
   "cell_type": "markdown",
   "id": "da41b48a-2495-4b06-b6d2-4f95f5478086",
   "metadata": {},
   "source": [
    "### Block designs\n",
    "Now, we'll simulate a simple block design with 30-second (15-TR) blocks of alternating stimulus conditions: in this case, faces and houses. Each block is separated by 20 seconds (10 TRs). This design mimics one of the experimental manipulations used to localize face processing in the brain ([Kanwisher et al., 1997](https://doi.org/10.1523/JNEUROSCI.17-11-04302.1997))."
   ]
  },
  {
   "cell_type": "code",
   "execution_count": 7,
   "id": "6b189c7a-eccc-4b0e-a7c8-fb98447a0cb0",
   "metadata": {},
   "outputs": [],
   "source": [
    "stim_duration = 15\n",
    "face_onsets = [10, 60, 110]\n",
    "house_onsets = [35, 85, 135]"
   ]
  },
  {
   "cell_type": "code",
   "execution_count": 8,
   "id": "5de72b85-c63a-41af-ad51-fe52ed57364c",
   "metadata": {},
   "outputs": [],
   "source": [
    "face_blocks = np.zeros(n_trs)\n",
    "for onset in face_onsets:\n",
    "    face_blocks[onset:onset + stim_duration] = 1\n",
    "\n",
    "house_blocks = np.zeros(n_trs)\n",
    "for onset in house_onsets:\n",
    "    house_blocks[onset:onset + stim_duration] = 1"
   ]
  },
  {
   "cell_type": "markdown",
   "id": "ccb07f16-3cc9-464b-86e8-2fdd57d2b059",
   "metadata": {},
   "source": [
    "Plot these two \"boxcar\" time series below. These time series represent the hypothesized neural activitiy associated with the perception of faces and the perception of houses. In subsequent labs, we'll use statistical methods to compare (i.e. subtract or \"contrast\") responses to these two types of stimuli."
   ]
  },
  {
   "cell_type": "code",
   "execution_count": 9,
   "id": "22a78f10-9082-4bcb-8d51-aa380c7a90be",
   "metadata": {},
   "outputs": [],
   "source": [
    "# Plot boxcar time series\n"
   ]
  },
  {
   "cell_type": "markdown",
   "id": "0efc17a4-c981-4796-8733-62066c84499a",
   "metadata": {},
   "source": [
    "Next, to better capture the BOLD response, convolve these boxcar time series with the HRF. Plot the resulting time series below. Note how, for the most part, the BOLD response returns to baseline prior to the presentation of a subsequent block."
   ]
  },
  {
   "cell_type": "code",
   "execution_count": 10,
   "id": "2bd2614e-4041-4d02-9379-b804d2b8cbca",
   "metadata": {},
   "outputs": [],
   "source": [
    "# Convolve boxcars with HRF and plot\n"
   ]
  },
  {
   "cell_type": "markdown",
   "id": "6fd4f0eb-ba83-43d9-8db1-7883193aaafc",
   "metadata": {},
   "source": [
    "Finally, you will often see these time series represented as columns in a \"design matrix\". Use `np.column_stack` to combine these time series as columns—alongside an additional column of ones (i.e. the intercept)—into a matrix `X`. Plot the matrix below."
   ]
  },
  {
   "cell_type": "code",
   "execution_count": 11,
   "id": "0e0c829b-b514-4bcf-9c65-186c997205e7",
   "metadata": {},
   "outputs": [],
   "source": [
    "# Create design matrix and plot\n"
   ]
  },
  {
   "cell_type": "markdown",
   "id": "b29b8e24-a756-43b6-ab93-975afd2ec8f2",
   "metadata": {},
   "source": [
    "### Event-related designs\n",
    "In this exercise, we'll simulate a simple event-design with brief stimulus presentations, short interstimulus intervals (ISIs), resulting in overlapping BOLD responses. We'll pack 40 events into our 320-second long experimental run: 20 face events and 20 house events. Each event is one TR in duration. To jitter the onsets of our events, we'll sample ISIs from a geometric distribution. Here, we jitter by one or more TRs, but most fMRI software also allows you to jitter event onsets on the scale of milliseconds. After generating our 40 total jittered event onsets, we randomly assign 20 to the face condition and 20 to the house condition. Note that there are dedicated software tools for generating more sophisticated, more efficient event-related designs (e.g. FreeSurfer's [Optseq](https://surfer.nmr.mgh.harvard.edu/optseq/), AFNI's [@stim_analyze](https://afni.nimh.nih.gov/pub/dist/edu/data/CD.expanded/AFNI_data6/ht03/@stim_analyze); [Dale, 1999](https://doi.org/10.1002/(SICI)1097-0193(1999)8:2/3%3C109::AID-HBM7%3E3.0.CO;2-W))."
   ]
  },
  {
   "cell_type": "code",
   "execution_count": 12,
   "id": "f3441752-fdb6-4aac-8200-bc7713828885",
   "metadata": {},
   "outputs": [],
   "source": [
    "np.random.seed(420)\n",
    "\n",
    "n_events = 40\n",
    "onsets = np.cumsum(tr + np.random.geometric(.5, n_events))\n",
    "face_ids = np.sort(np.random.choice(np.arange(n_events), size=n_events // 2, replace=False))\n",
    "house_ids = np.array([i for i in np.arange(n_events) if i not in face_ids])\n",
    "face_onsets = onsets[face_ids]\n",
    "house_onsets = onsets[house_ids]"
   ]
  },
  {
   "cell_type": "code",
   "execution_count": 13,
   "id": "70b37037-a472-43b8-8017-5414917a601f",
   "metadata": {},
   "outputs": [],
   "source": [
    "face_events = np.zeros(n_trs)\n",
    "face_events[face_onsets] = 1\n",
    "\n",
    "house_events = np.zeros(n_trs)\n",
    "house_events[house_onsets] = 1"
   ]
  },
  {
   "cell_type": "markdown",
   "id": "ccb3eed6-a301-443e-8e9c-ec6ceba9cd77",
   "metadata": {},
   "source": [
    "Plot the two time series for face and house events below. These time series represent the hypothesized neural events occurring rapidly in response to the brief presentation of face and house stimuli."
   ]
  },
  {
   "cell_type": "code",
   "execution_count": 14,
   "id": "11695fcb-0934-4c61-954c-4414a305eeb7",
   "metadata": {},
   "outputs": [],
   "source": [
    "# Plot the event time series\n"
   ]
  },
  {
   "cell_type": "markdown",
   "id": "981a27df-92e1-4542-8b88-9c01c317384e",
   "metadata": {},
   "source": [
    "Next, convolve the face and house event time series with the HRF to generate the predicted BOLD responses for the two types of stimuli. Plot the resulting time series. Note that the BOLD responses to adjacent stimuli are highly overlapping and do not return to baseline between events."
   ]
  },
  {
   "cell_type": "code",
   "execution_count": 15,
   "id": "fb1a0e76-04d7-4441-9014-e88adcb342d5",
   "metadata": {},
   "outputs": [],
   "source": [
    "# Convolve event time series with HRF and plot\n"
   ]
  },
  {
   "cell_type": "markdown",
   "id": "af3603fa-15c7-4d54-a0c9-228e83482793",
   "metadata": {},
   "source": [
    "Now, similarly to the block design, stack these two regressors (along with a constant vector of ones) into a design matrix `X`. Plot the design matrix below."
   ]
  },
  {
   "cell_type": "code",
   "execution_count": 16,
   "id": "62149554-7211-4585-8679-eb345d510fde",
   "metadata": {},
   "outputs": [],
   "source": [
    "# Plot the design matrix\n"
   ]
  },
  {
   "cell_type": "markdown",
   "id": "82f0dad0-93f1-4b93-bc17-2968b7d5aeac",
   "metadata": {},
   "source": [
    "Try recombining the original face and house event time series (prior to convolving with the HRF) into a single time series. Then, convolve this time series of all events with the HRF. Plot the resulting time series."
   ]
  },
  {
   "cell_type": "code",
   "execution_count": 17,
   "id": "dd18d2d1-d0f0-4f67-b024-38f94a139a47",
   "metadata": {},
   "outputs": [],
   "source": [
    "# Combine face and house events, convolve with HRF, and plot\n"
   ]
  },
  {
   "cell_type": "markdown",
   "id": "widespread-nature",
   "metadata": {},
   "source": [
    "#### References\n",
    "\n",
    "* Dale, A. M. (1999). Optimal experimental design for event‐related fMRI. _Human Brain Mapping_, _8_(2‐3), 109–114. https://doi.org/10.1002/(SICI)1097-0193(1999)8:2/3%3C109::AID-HBM7%3E3.0.CO;2-W\n",
    "\n",
    "* Glover, G. H. (1999). Deconvolution of impulse response in event-related BOLD fMRI. _NeuroImage_, _9_(4), 416–429. https://doi.org/10.1006/nimg.1998.0419\n",
    "\n",
    "* Kanwisher, N., McDermott, J., & Chun, M. M. (1997). The fusiform face area: a module in human extrastriate cortex specialized for face perception. _Journal of Neuroscience_, _17_(11), 4302–4311. https://doi.org/10.1523/JNEUROSCI.17-11-04302.1997"
   ]
  }
 ],
 "metadata": {
  "kernelspec": {
   "display_name": "Python 3 (ipykernel)",
   "language": "python",
   "name": "python3"
  },
  "language_info": {
   "codemirror_mode": {
    "name": "ipython",
    "version": 3
   },
   "file_extension": ".py",
   "mimetype": "text/x-python",
   "name": "python",
   "nbconvert_exporter": "python",
   "pygments_lexer": "ipython3",
   "version": "3.10.9"
  }
 },
 "nbformat": 4,
 "nbformat_minor": 5
}
