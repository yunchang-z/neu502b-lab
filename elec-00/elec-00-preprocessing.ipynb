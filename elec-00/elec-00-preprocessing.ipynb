{
 "cells": [
  {
   "cell_type": "markdown",
   "metadata": {},
   "source": [
    "# `elec-00`: EEG preprocessing\n",
    "This lab implements EEG preprocessing using bandpass filtering and independent component analysis (ICA). ICA-based preprocessing will allow us to identify and remove noise signals due to eye-blinks. We'll use the [MNE](https://mne.tools/stable/index.html) Python package for visualization and analysis. If you don't have MNE installed, run the following line in your conda environment: `conda install -c conda-forge mne-base`."
   ]
  },
  {
   "cell_type": "code",
   "execution_count": null,
   "metadata": {},
   "outputs": [],
   "source": [
    "import numpy as np\n",
    "import matplotlib.pyplot as plt\n",
    "import seaborn as sns"
   ]
  },
  {
   "cell_type": "markdown",
   "metadata": {},
   "source": [
    "### Load in raw data\n",
    "Similar to fMRI, EEG data come in a variety of different file formats. We will use the Elektra Neuromag (fif) file format, typically associated with MEG data, as that is a commonly used data type in MNE. For loading different file formats into MNE, see this [tutorial](https://mne.tools/stable/auto_tutorials/io/index.html)."
   ]
  },
  {
   "cell_type": "code",
   "execution_count": null,
   "metadata": {},
   "outputs": [],
   "source": [
    "from mne.io import read_raw\n",
    "\n",
    "# Specify path to raw data\n",
    "raw_fn = 'sub-01_task-audvis_raw.fif'\n",
    "\n",
    "# Load raw data\n",
    "data_raw = read_raw(raw_fn, preload=True, verbose=False)\n",
    "print(data_raw)"
   ]
  },
  {
   "cell_type": "markdown",
   "metadata": {},
   "source": [
    "### Visualizing the raw data\n",
    "The `mne.io.Raw` class object is a very helpful data structure, containing the entire EEG recording and its corresponding metadata. The `.info` attribute allows us to easily inspect all of the metadata. For example, we can specify that channel `EEG 053` is a bad channel. Use `find_layout` from `mne.channels` and `plot_layout` from `mne.viz` to visualize the channel layout."
   ]
  },
  {
   "cell_type": "code",
   "execution_count": null,
   "metadata": {},
   "outputs": [],
   "source": [
    "# Inspect metadata\n",
    "print(data_raw.info)\n",
    "\n",
    "# Designate bad channel\n",
    "data_raw.info['bads'] = ['EEG 053']\n",
    "\n",
    "# Visualize channel layout:\n",
    "from mne.channels import find_layout\n",
    "from mne.viz import plot_layout\n"
   ]
  },
  {
   "cell_type": "markdown",
   "metadata": {},
   "source": [
    "We can interactively visualize the raw EEG data using `Raw` object's `.plot()` method. You may need to specify a `%matplotlib` magic command for interactive plotting (e.g. `%matplotlib osx` for Mac)."
   ]
  },
  {
   "cell_type": "code",
   "execution_count": null,
   "metadata": {},
   "outputs": [],
   "source": [
    "# Interactively plot raw data:\n",
    "%matplotlib osx\n"
   ]
  },
  {
   "cell_type": "markdown",
   "metadata": {},
   "source": [
    "We can also interactively visualize the standard (e.g. 10–20) channel layouts. Use `make_standard_montage` from `mne.channels` with the `'standard_1020'`) argument to create the standard montage. Use the montage's `.plot()` method (with `kind='3d'` or `kind='topomap'`) to visualize the channel layout."
   ]
  },
  {
   "cell_type": "code",
   "execution_count": null,
   "metadata": {},
   "outputs": [],
   "source": [
    "# Create standard 1020 channel locations:\n",
    "from mne.channels import make_standard_montage\n",
    "\n",
    "\n",
    "# Plot standard electrode locations:\n",
    "%matplotlib osx\n"
   ]
  },
  {
   "cell_type": "markdown",
   "metadata": {},
   "source": [
    "### Filtering\n",
    "\n",
    "Filtering data can help remove high-frequency artifacts (e.g. EMG artifact) and low-frequency drifts, and notch filters at 50 Hz or 60 Hz help attenuate electrical line noise. Applying a high-pass filter at 0.1 Hz or 0.5 Hz to the continuous data is useful and recommended to minimize slow drifts. More conservative high-pass filters have the potential to [distort and bias EEG analysis](https://www.ncbi.nlm.nih.gov/pmc/articles/PMC4506207/). Use the `Raw` data's `.filter()` method to bandpass filter the EEG data between 0.5 and 40 Hz using the FIR method with zero phase. We'll use `pick_types` to specify only the EEG channels (e.g. excluding ocular channels, stimulus channels, etc). Name the output `data_filtered`."
   ]
  },
  {
   "cell_type": "code",
   "execution_count": null,
   "metadata": {},
   "outputs": [],
   "source": [
    "from mne import pick_types\n",
    "\n",
    "# Select EEG channels (excluding other channels)\n",
    "picks = pick_types(data_raw.info, meg=False, eeg=True, eog=False, stim=False)\n",
    "\n",
    "# Apply bandpass filter:\n"
   ]
  },
  {
   "cell_type": "markdown",
   "metadata": {},
   "source": [
    "### Independent component analysis (ICA)\n",
    "\n",
    "There are many sources of artifact in EEG data, including head motion, muscle tension, recording drift, and channel pops. Perhaps the most common source of artifact is eyeblink. Oculomotor activity causes large deflections in the EEG recording (with decreasing magnitude in channels further from the eyes). There are a number of methods for removing eyeblinks, including amplitude rejection, signal space projection (SSP), and independent component analysis (ICA). ICA finds directions in the feature space corresponding to projections with high non-Gaussianity. We thus obtain a decomposition into independent components, and the artifact's contribution is typically localized in only a small number of components. These components must be correctly identified and removed. More complete information about the theory behind ICA and its application with MNE can be found [here](https://mne.tools/stable/auto_tutorials/preprocessing/plot_40_artifact_correction_ica.html). Initialize `ICA` from `mne.preprocessing` with `n_components` (the number PCs retained prior to ICA) set to 25, using `method='fastica'`. Use `pick_types` to specify the EEG channels, then use the ICA object's `.fit()` (with `decim=3`) to estimate the ICs from the EEG data."
   ]
  },
  {
   "cell_type": "code",
   "execution_count": null,
   "metadata": {},
   "outputs": [],
   "source": [
    "from mne.preprocessing import ICA\n",
    "\n",
    "# Define parameters for ICA\n",
    "n_components = 25\n",
    "method = 'fastica'\n",
    "decim = 3 \n",
    "\n",
    "# Initialize MNE's ICA object:\n",
    "\n",
    "# Fit ICA to filtered data:\n"
   ]
  },
  {
   "cell_type": "markdown",
   "metadata": {},
   "source": [
    "We can visualize the scalp topography of each component to identify artifactual components. Use the fitted ICA object's `.plot_components()` method to plot the scalp topography of the ICs."
   ]
  },
  {
   "cell_type": "code",
   "execution_count": null,
   "metadata": {},
   "outputs": [],
   "source": [
    "# Plot ICA components:\n"
   ]
  },
  {
   "cell_type": "markdown",
   "metadata": {},
   "source": [
    "MNE also has some nice functions for visually exploring features of each component. Try using the fitted ICA object's `.plot_properties()` method to visualize some potentially problematic ICs."
   ]
  },
  {
   "cell_type": "code",
   "execution_count": null,
   "metadata": {},
   "outputs": [],
   "source": [
    "# Visualize IC properties:\n"
   ]
  },
  {
   "cell_type": "markdown",
   "metadata": {},
   "source": [
    "There's a much more efficient way to detect artifactual components with MNE. Instead, we will take snapshots of each instance of a blink and correlate these data with the ICA components in order to find those components most likely corresponding to eyeblinks.\n",
    "\n",
    "To identify eyeblinks in the data, we will use the `create_eog_epochs` function, which conveniently looks for large events in the EOG (`ch_name='EOG 061'`; electro-oculography) channel. Use the resulting `.average()` method of the result EOG epochs object to average and plot the "
   ]
  },
  {
   "cell_type": "code",
   "execution_count": null,
   "metadata": {},
   "outputs": [],
   "source": [
    "from mne.preprocessing import create_eog_epochs\n",
    "\n",
    "# Set parameters for creating epochs\n",
    "reject = {'eeg': 2e-4}\n",
    "picks = pick_types(data_filtered.info, meg=False, eeg=True, eog=True, stim=False)\n",
    "\n",
    "# Create EOG epochs:\n",
    "\n",
    "# Compute average eyeblink and plot:\n"
   ]
  },
  {
   "cell_type": "markdown",
   "metadata": {},
   "source": [
    "Next we detect EOG related components using correlation. Detection is based on Pearson correlation between the filtered data and the filtered EOG channel. Thresholding is based on adaptive z-scoring. The above threshold components will be masked and the z-score will be recomputed until no supra-threshold component remains. Use the fitted ICA object's `.find_bads_eog()` method to obtain the EEG IC that corresponds to eyeblinks as well as the correlation scores. Use the fitted ICA object's `.plot_scores()` method to plot the scores."
   ]
  },
  {
   "cell_type": "code",
   "execution_count": null,
   "metadata": {},
   "outputs": [],
   "source": [
    "# Detect EOG components find_bads_eog:\n",
    "\n",
    "# Plot correlation scores:\n"
   ]
  },
  {
   "cell_type": "markdown",
   "metadata": {},
   "source": [
    "We can also inspect the ICA-based source timecourse within the time window of our EOG average. Use the fitted ICA object's `.plot_sources()` method with the average EOG epochs to visualize all of the sources during eyeblinks. One component should pop out!"
   ]
  },
  {
   "cell_type": "code",
   "execution_count": null,
   "metadata": {},
   "outputs": [],
   "source": [
    "# Plot sources:\n"
   ]
  },
  {
   "cell_type": "markdown",
   "metadata": {},
   "source": [
    "We can take a look at the properties of that component, now using the data epoched with respect to EOG events. Use `plot_properties` to visualize the the EOG epochs, specifically focusing on the EOG IC identified by `find_bads_eog`."
   ]
  },
  {
   "cell_type": "code",
   "execution_count": null,
   "metadata": {},
   "outputs": [],
   "source": [
    "# Plot problematic IC properties during eyeblink epochs:\n"
   ]
  },
  {
   "cell_type": "markdown",
   "metadata": {},
   "source": [
    "Now let’s see how we would modify our signals if we removed this component from the data. Use the fitted ICA object's `.plot_overlay` function specifying the averaged EOG epoch and set `exclude` to the index of the IC corresponding to eyeblinks."
   ]
  },
  {
   "cell_type": "code",
   "execution_count": null,
   "metadata": {},
   "outputs": [],
   "source": [
    "# Plot overlay of before and after eyeblink IC removal:\n"
   ]
  },
  {
   "cell_type": "markdown",
   "metadata": {},
   "source": [
    "To register this component as a bad one to be remove, use the `ica.exclude` attribute. This is a simple Python list; i.e. append the problematic IC index to `exclude` attribute of the fitted ICA object."
   ]
  },
  {
   "cell_type": "code",
   "execution_count": null,
   "metadata": {},
   "outputs": [],
   "source": [
    "# Add eyeblink IC index to exclude:\n"
   ]
  },
  {
   "cell_type": "markdown",
   "metadata": {},
   "source": [
    "Note that nothing is yet removed from the raw data. To remove the effects of the rejected components, the `.apply()` method of the fitted ICA object must be called on the data. This will reconstruct the data without any ICs in the `exclude` list. We apply the ICA transformation to a copy of the original raw data."
   ]
  },
  {
   "cell_type": "code",
   "execution_count": null,
   "metadata": {},
   "outputs": [],
   "source": [
    "# Copy filtered raw data\n",
    "data_ica = data_filtered.copy()\n",
    "\n",
    "# Apply ICA decomposition and transformation:\n",
    "\n",
    "# Save preprocessed data:\n"
   ]
  },
  {
   "cell_type": "markdown",
   "metadata": {},
   "source": [
    "Finally, interactive re-visualize the preprocessed EEG data using the data's `.plot()` method."
   ]
  },
  {
   "cell_type": "code",
   "execution_count": null,
   "metadata": {},
   "outputs": [],
   "source": [
    "# Interactively plot preprocessed data:\n",
    "%matplotlib osx\n"
   ]
  }
 ],
 "metadata": {
  "kernelspec": {
   "display_name": "Python 3 (ipykernel)",
   "language": "python",
   "name": "python3"
  },
  "language_info": {
   "codemirror_mode": {
    "name": "ipython",
    "version": 3
   },
   "file_extension": ".py",
   "mimetype": "text/x-python",
   "name": "python",
   "nbconvert_exporter": "python",
   "pygments_lexer": "ipython3",
   "version": "3.10.9"
  }
 },
 "nbformat": 4,
 "nbformat_minor": 4
}
