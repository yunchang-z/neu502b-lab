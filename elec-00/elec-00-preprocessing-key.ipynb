{
 "cells": [
  {
   "cell_type": "markdown",
   "metadata": {},
   "source": [
    "# `elec-00`: EEG preprocessing\n",
    "This lab implements EEG preprocessing using bandpass filtering and independent component analysis (ICA). ICA-based preprocessing will allow us to identify and remove noise signals due to eye-blinks. We'll use the [MNE](https://mne.tools/stable/index.html) Python package for visualization and analysis. If you don't have MNE installed, run the following line in your conda environment: `conda install -c conda-forge mne-base`."
   ]
  },
  {
   "cell_type": "code",
   "execution_count": 1,
   "metadata": {},
   "outputs": [],
   "source": [
    "import numpy as np\n",
    "import matplotlib.pyplot as plt\n",
    "import seaborn as sns"
   ]
  },
  {
   "cell_type": "markdown",
   "metadata": {},
   "source": [
    "### Load in raw data\n",
    "Similar to fMRI, EEG data come in a variety of different file formats. We will use the Elektra Neuromag (fif) file format, typically associated with MEG data, as that is a commonly used data type in MNE. For loading different file formats into MNE, see this [tutorial](https://mne.tools/stable/auto_tutorials/io/index.html)."
   ]
  },
  {
   "cell_type": "code",
   "execution_count": 18,
   "metadata": {},
   "outputs": [
    {
     "name": "stdout",
     "output_type": "stream",
     "text": [
      "<Raw | sub-01_task-audvis_raw.fif, 70 x 166800 (277.7 s), ~92.1 MB, data loaded>\n"
     ]
    }
   ],
   "source": [
    "from mne.io import read_raw\n",
    "\n",
    "# Specify path to raw data\n",
    "raw_fn = 'sub-01_task-audvis_raw.fif'\n",
    "\n",
    "# Load raw data\n",
    "data_raw = read_raw(raw_fn, preload=True, verbose=False)\n",
    "print(data_raw)"
   ]
  },
  {
   "cell_type": "markdown",
   "metadata": {},
   "source": [
    "### Visualizing the raw data\n",
    "The `mne.io.Raw` class object is a very helpful data structure, containing the entire EEG recording and its corresponding metadata. The `.info` attribute allows us to easily inspect all of the metadata. For example, we can specify that channel `EEG 053` is a bad channel. Use `find_layout` from `mne.channels` and `plot_layout` from `mne.viz` to visualize the channel layout."
   ]
  },
  {
   "cell_type": "code",
   "execution_count": 19,
   "metadata": {},
   "outputs": [
    {
     "name": "stdout",
     "output_type": "stream",
     "text": [
      "<Info | 20 non-empty values\n",
      " acq_pars: ACQch001 110113 ACQch002 110112 ACQch003 110111 ACQch004 110122 ...\n",
      " bads: []\n",
      " ch_names: STI 001, STI 002, STI 003, STI 004, STI 005, STI 006, STI 014, ...\n",
      " chs: 9 Stimulus, 60 EEG, 1 EOG\n",
      " custom_ref_applied: False\n",
      " description: acquisition (megacq) VectorView system at NMR-MGH\n",
      " dev_head_t: MEG device -> head transform\n",
      " dig: 146 items (3 Cardinal, 4 HPI, 61 EEG, 78 Extra)\n",
      " events: 1 item (list)\n",
      " experimenter: MEG\n",
      " file_id: 4 items (dict)\n",
      " highpass: 0.1 Hz\n",
      " hpi_meas: 1 item (list)\n",
      " hpi_results: 1 item (list)\n",
      " lowpass: 172.2 Hz\n",
      " meas_date: 2002-12-03 19:01:10 UTC\n",
      " meas_id: 4 items (dict)\n",
      " nchan: 70\n",
      " proj_id: 1 item (ndarray)\n",
      " proj_name: test\n",
      " projs: PCA-v1: off, PCA-v2: off, PCA-v3: off\n",
      " sfreq: 600.6 Hz\n",
      ">\n"
     ]
    }
   ],
   "source": [
    "# Inspect metadata\n",
    "print(data_raw.info)\n",
    "\n",
    "# Designate bad channel\n",
    "data_raw.info['bads'] = ['EEG 053']\n",
    "\n",
    "# Visualize channel layout:\n",
    "from mne.channels import find_layout\n",
    "from mne.viz import plot_layout\n",
    "\n",
    "layout = find_layout(data_raw.info)\n",
    "plot_layout(layout);"
   ]
  },
  {
   "cell_type": "markdown",
   "metadata": {},
   "source": [
    "We can interactively visualize the raw EEG data using `Raw` object's `.plot()` method. You may need to specify a `%matplotlib` magic command for interactive plotting (e.g. `%matplotlib osx` for Mac)."
   ]
  },
  {
   "cell_type": "code",
   "execution_count": 20,
   "metadata": {},
   "outputs": [
    {
     "name": "stdout",
     "output_type": "stream",
     "text": [
      "Channels marked as bad:\n",
      "['EEG 053', 'EEG 014']\n"
     ]
    }
   ],
   "source": [
    "# Interactively plot raw data:\n",
    "%matplotlib osx\n",
    "\n",
    "data_raw.plot();"
   ]
  },
  {
   "cell_type": "markdown",
   "metadata": {},
   "source": [
    "We can also interactively visualize the standard (e.g. 10–20) channel layouts. Use `make_standard_montage` from `mne.channels` with the `'standard_1020'`) argument to create the standard montage. Use the montage's `.plot()` method (with `kind='3d'` or `kind='topomap'`) to visualize the channel layout."
   ]
  },
  {
   "cell_type": "code",
   "execution_count": 21,
   "metadata": {},
   "outputs": [
    {
     "name": "stdout",
     "output_type": "stream",
     "text": [
      "<DigMontage | 0 extras (headshape), 0 HPIs, 3 fiducials, 94 channels>\n",
      "4 duplicate electrode labels found:\n",
      "T7/T3, T8/T4, P7/T5, P8/T6\n",
      "Plotting 90 unique labels.\n",
      "4 duplicate electrode labels found:\n",
      "T7/T3, T8/T4, P7/T5, P8/T6\n",
      "Plotting 90 unique labels.\n"
     ]
    }
   ],
   "source": [
    "# Create standard 1020 channel locations:\n",
    "from mne.channels import make_standard_montage\n",
    "\n",
    "ten_twenty_montage = make_standard_montage('standard_1020')\n",
    "print(ten_twenty_montage)\n",
    "\n",
    "# Plot standard electrode locations:\n",
    "%matplotlib osx\n",
    "fig = ten_twenty_montage.plot(kind='3d')\n",
    "fig.gca().view_init(azim=70, elev=15)\n",
    "ten_twenty_montage.plot(kind='topomap', show_names=False);"
   ]
  },
  {
   "cell_type": "markdown",
   "metadata": {},
   "source": [
    "### Filtering\n",
    "\n",
    "Filtering data can help remove high-frequency artifacts (e.g. EMG artifact) and low-frequency drifts, and notch filters at 50 Hz or 60 Hz help attenuate electrical line noise. Applying a high-pass filter at 0.1 Hz or 0.5 Hz to the continuous data is useful and recommended to minimize slow drifts. More conservative high-pass filters have the potential to [distort and bias EEG analysis](https://www.ncbi.nlm.nih.gov/pmc/articles/PMC4506207/). Use the `Raw` data's `.filter()` method to bandpass filter the EEG data between 0.5 and 40 Hz using the FIR method with zero phase. We'll use `pick_types` to specify only the EEG channels (e.g. excluding ocular channels, stimulus channels, etc). Name the output `data_filtered`."
   ]
  },
  {
   "cell_type": "code",
   "execution_count": 22,
   "metadata": {},
   "outputs": [
    {
     "name": "stdout",
     "output_type": "stream",
     "text": [
      "Filtering a subset of channels. The highpass and lowpass values in the measurement info will not be updated.\n",
      "Filtering raw data in 1 contiguous segment\n",
      "Setting up band-pass filter from 0.5 - 40 Hz\n",
      "\n",
      "FIR filter parameters\n",
      "---------------------\n",
      "Designing a one-pass, zero-phase, non-causal bandpass filter:\n",
      "- Windowed time-domain design (firwin) method\n",
      "- Hamming window with 0.0194 passband ripple and 53 dB stopband attenuation\n",
      "- Lower passband edge: 0.50\n",
      "- Lower transition bandwidth: 0.50 Hz (-6 dB cutoff frequency: 0.25 Hz)\n",
      "- Upper passband edge: 40.00 Hz\n",
      "- Upper transition bandwidth: 10.00 Hz (-6 dB cutoff frequency: 45.00 Hz)\n",
      "- Filter length: 3965 samples (6.602 sec)\n",
      "\n"
     ]
    },
    {
     "name": "stderr",
     "output_type": "stream",
     "text": [
      "[Parallel(n_jobs=1)]: Using backend SequentialBackend with 1 concurrent workers.\n",
      "[Parallel(n_jobs=1)]: Done   1 out of   1 | elapsed:    0.0s remaining:    0.0s\n",
      "[Parallel(n_jobs=1)]: Done   2 out of   2 | elapsed:    0.0s remaining:    0.0s\n",
      "[Parallel(n_jobs=1)]: Done   3 out of   3 | elapsed:    0.0s remaining:    0.0s\n",
      "[Parallel(n_jobs=1)]: Done   4 out of   4 | elapsed:    0.0s remaining:    0.0s\n",
      "[Parallel(n_jobs=1)]: Done  58 out of  58 | elapsed:    0.2s finished\n"
     ]
    }
   ],
   "source": [
    "from mne import pick_types\n",
    "\n",
    "# Select EEG channels (excluding other channels)\n",
    "picks = pick_types(data_raw.info, meg=False, eeg=True, eog=False, stim=False)\n",
    "\n",
    "# Apply bandpass filter:\n",
    "data_filtered = data_raw.filter(0.5, 40, picks=picks, method='fir')"
   ]
  },
  {
   "cell_type": "markdown",
   "metadata": {},
   "source": [
    "### Independent component analysis (ICA)\n",
    "\n",
    "There are many sources of artifact in EEG data, including head motion, muscle tension, recording drift, and channel pops. Perhaps the most common source of artifact is eyeblink. Oculomotor activity causes large deflections in the EEG recording (with decreasing magnitude in channels further from the eyes). There are a number of methods for removing eyeblinks, including amplitude rejection, signal space projection (SSP), and independent component analysis (ICA). ICA finds directions in the feature space corresponding to projections with high non-Gaussianity. We thus obtain a decomposition into independent components, and the artifact's contribution is typically localized in only a small number of components. These components must be correctly identified and removed. More complete information about the theory behind ICA and its application with MNE can be found [here](https://mne.tools/stable/auto_tutorials/preprocessing/plot_40_artifact_correction_ica.html). Initialize `ICA` from `mne.preprocessing` with `n_components` (the number PCs retained prior to ICA) set to 25, using `method='fastica'`. Use `pick_types` to specify the EEG channels, then use the ICA object's `.fit()` (with `decim=3`) to estimate the ICs from the EEG data."
   ]
  },
  {
   "cell_type": "code",
   "execution_count": 23,
   "metadata": {},
   "outputs": [
    {
     "name": "stdout",
     "output_type": "stream",
     "text": [
      "Fitting ICA to data using 58 channels (please be patient, this may take a while)\n",
      "Selecting by number: 25 components\n",
      "Fitting ICA took 1.0s.\n",
      "<ICA | raw data decomposition, method: fastica (fit in 34 iterations on 55600 samples), 25 ICA components (58 PCA components available), channel types: eeg, no sources marked for exclusion>\n"
     ]
    }
   ],
   "source": [
    "from mne.preprocessing import ICA\n",
    "\n",
    "# Define parameters for ICA\n",
    "n_components = 25\n",
    "method = 'fastica'\n",
    "decim = 3 \n",
    "\n",
    "# Initialize MNE's ICA object:\n",
    "ica = ICA(n_components=n_components, method=method, random_state=1312)\n",
    "\n",
    "# Fit ICA to filtered data:\n",
    "picks = pick_types(data_filtered.info, meg=False, eeg=True, eog=False, stim=False)\n",
    "ica.fit(data_filtered, picks=picks, decim=decim)\n",
    "print(ica)"
   ]
  },
  {
   "cell_type": "markdown",
   "metadata": {},
   "source": [
    "We can visualize the scalp topography of each component to identify artifactual components. Use the fitted ICA object's `.plot_components()` method to plot the scalp topography of the ICs."
   ]
  },
  {
   "cell_type": "code",
   "execution_count": 24,
   "metadata": {},
   "outputs": [],
   "source": [
    "# Plot ICA components:\n",
    "ica.plot_components();"
   ]
  },
  {
   "cell_type": "markdown",
   "metadata": {},
   "source": [
    "MNE also has some nice functions for visually exploring features of each component. Try using the fitted ICA object's `.plot_properties()` method to visualize some potentially problematic ICs."
   ]
  },
  {
   "cell_type": "code",
   "execution_count": 25,
   "metadata": {},
   "outputs": [
    {
     "name": "stdout",
     "output_type": "stream",
     "text": [
      "    Using multitaper spectrum estimation with 7 DPSS windows\n",
      "Not setting metadata\n",
      "138 matching events found\n",
      "No baseline correction applied\n",
      "0 projection items activated\n"
     ]
    }
   ],
   "source": [
    "# Visualize IC properties:\n",
    "ica.plot_properties(data_filtered, picks=0, psd_args={'fmax': 40.});"
   ]
  },
  {
   "cell_type": "markdown",
   "metadata": {},
   "source": [
    "There's a much more efficient way to detect artifactual components with MNE. Instead, we will take snapshots of each instance of a blink and correlate these data with the ICA components in order to find those components most likely corresponding to eyeblinks.\n",
    "\n",
    "To identify eyeblinks in the data, we will use the `create_eog_epochs` function, which conveniently looks for large events in the EOG (`ch_name='EOG 061'`; electro-oculography) channel. Use the resulting `.average()` method of the result EOG epochs object to average and plot the "
   ]
  },
  {
   "cell_type": "code",
   "execution_count": 26,
   "metadata": {},
   "outputs": [
    {
     "name": "stdout",
     "output_type": "stream",
     "text": [
      "Using EOG channel: EOG 061\n",
      "EOG channel index for this subject is: [69]\n",
      "Filtering the data to remove DC offset to help distinguish blinks from saccades\n",
      "Setting up band-pass filter from 1 - 10 Hz\n",
      "\n",
      "FIR filter parameters\n",
      "---------------------\n",
      "Designing a two-pass forward and reverse, zero-phase, non-causal bandpass filter:\n",
      "- Windowed frequency-domain design (firwin2) method\n",
      "- Hann window\n",
      "- Lower passband edge: 1.00\n",
      "- Lower transition bandwidth: 0.50 Hz (-12 dB cutoff frequency: 0.75 Hz)\n",
      "- Upper passband edge: 10.00 Hz\n",
      "- Upper transition bandwidth: 0.50 Hz (-12 dB cutoff frequency: 10.25 Hz)\n",
      "- Filter length: 6007 samples (10.001 sec)\n",
      "\n",
      "Now detecting blinks and generating corresponding events\n",
      "Found 46 significant peaks\n",
      "Number of EOG events detected: 46\n",
      "Not setting metadata\n",
      "46 matching events found\n",
      "No baseline correction applied\n",
      "Using data from preloaded Raw for 46 events and 601 original time points ...\n",
      "    Rejecting  epoch based on EEG : ['EEG 001', 'EEG 002', 'EEG 003', 'EEG 004', 'EEG 005', 'EEG 006', 'EEG 007']\n",
      "    Rejecting  epoch based on EEG : ['EEG 001', 'EEG 003', 'EEG 007']\n",
      "    Rejecting  epoch based on EEG : ['EEG 001', 'EEG 002', 'EEG 003', 'EEG 007']\n",
      "    Rejecting  epoch based on EEG : ['EEG 001', 'EEG 003', 'EEG 007']\n",
      "    Rejecting  epoch based on EEG : ['EEG 001', 'EEG 003', 'EEG 007']\n",
      "    Rejecting  epoch based on EEG : ['EEG 001', 'EEG 002', 'EEG 003', 'EEG 007']\n",
      "    Rejecting  epoch based on EEG : ['EEG 001', 'EEG 002', 'EEG 003', 'EEG 004', 'EEG 006', 'EEG 007', 'EEG 015']\n",
      "    Rejecting  epoch based on EEG : ['EEG 001', 'EEG 002', 'EEG 003', 'EEG 004', 'EEG 005', 'EEG 006', 'EEG 007']\n",
      "    Rejecting  epoch based on EEG : ['EEG 001', 'EEG 002', 'EEG 003']\n",
      "    Rejecting  epoch based on EEG : ['EEG 001', 'EEG 002', 'EEG 003', 'EEG 004', 'EEG 005', 'EEG 006', 'EEG 007']\n",
      "10 bad epochs dropped\n",
      "Removing projector <Projection | PCA-v1, active : False, n_channels : 102>\n",
      "Removing projector <Projection | PCA-v2, active : False, n_channels : 102>\n",
      "Removing projector <Projection | PCA-v3, active : False, n_channels : 102>\n"
     ]
    },
    {
     "name": "stderr",
     "output_type": "stream",
     "text": [
      "[Parallel(n_jobs=1)]: Using backend SequentialBackend with 1 concurrent workers.\n",
      "[Parallel(n_jobs=1)]: Done   1 out of   1 | elapsed:    0.0s remaining:    0.0s\n",
      "[Parallel(n_jobs=1)]: Done   1 out of   1 | elapsed:    0.0s finished\n"
     ]
    }
   ],
   "source": [
    "from mne.preprocessing import create_eog_epochs\n",
    "\n",
    "# Set parameters for creating epochs\n",
    "reject = {'eeg': 2e-4}\n",
    "picks = pick_types(data_filtered.info, meg=False, eeg=True, eog=True, stim=False)\n",
    "\n",
    "# Create EOG epochs:\n",
    "eog_epochs = create_eog_epochs(data_filtered, ch_name='EOG 061', picks=picks, reject=reject)\n",
    "\n",
    "# Compute average eyeblink and plot:\n",
    "eog_average = eog_epochs.average()\n",
    "plt.plot(eog_average.data.T);"
   ]
  },
  {
   "cell_type": "markdown",
   "metadata": {},
   "source": [
    "Next we detect EOG related components using correlation. Detection is based on Pearson correlation between the filtered data and the filtered EOG channel. Thresholding is based on adaptive z-scoring. The above threshold components will be masked and the z-score will be recomputed until no supra-threshold component remains. Use the fitted ICA object's `.find_bads_eog()` method to obtain the EEG IC that corresponds to eyeblinks as well as the correlation scores. Use the fitted ICA object's `.plot_scores()` method to plot the scores."
   ]
  },
  {
   "cell_type": "code",
   "execution_count": 27,
   "metadata": {},
   "outputs": [
    {
     "name": "stdout",
     "output_type": "stream",
     "text": [
      "Using EOG channel: EOG 061\n"
     ]
    }
   ],
   "source": [
    "# Detect EOG components find_bads_eog:\n",
    "eog_inds, scores = ica.find_bads_eog(eog_epochs)\n",
    "\n",
    "# Plot correlation scores:\n",
    "ica.plot_scores(scores, exclude=eog_inds);"
   ]
  },
  {
   "cell_type": "markdown",
   "metadata": {},
   "source": [
    "We can also inspect the ICA-based source timecourse within the time window of our EOG average. Use the fitted ICA object's `.plot_sources()` method with the average EOG epochs to visualize all of the sources during eyeblinks. One component should pop out!"
   ]
  },
  {
   "cell_type": "code",
   "execution_count": 28,
   "metadata": {},
   "outputs": [],
   "source": [
    "# Plot sources:\n",
    "ica.plot_sources(eog_average);"
   ]
  },
  {
   "cell_type": "markdown",
   "metadata": {},
   "source": [
    "We can take a look at the properties of that component, now using the data epoched with respect to EOG events. Use `plot_properties` to visualize the the EOG epochs, specifically focusing on the EOG IC identified by `find_bads_eog`."
   ]
  },
  {
   "cell_type": "code",
   "execution_count": 29,
   "metadata": {},
   "outputs": [
    {
     "name": "stdout",
     "output_type": "stream",
     "text": [
      "    Using multitaper spectrum estimation with 7 DPSS windows\n",
      "Not setting metadata\n",
      "36 matching events found\n",
      "No baseline correction applied\n",
      "0 projection items activated\n"
     ]
    }
   ],
   "source": [
    "# Plot problematic IC properties during eyeblink epochs:\n",
    "ica.plot_properties(eog_epochs, picks=eog_inds, psd_args={'fmax': 40.}, image_args={'sigma': 1.});"
   ]
  },
  {
   "cell_type": "markdown",
   "metadata": {},
   "source": [
    "Now let’s see how we would modify our signals if we removed this component from the data. Use the fitted ICA object's `.plot_overlay` function specifying the averaged EOG epoch and set `exclude` to the index of the IC corresponding to eyeblinks."
   ]
  },
  {
   "cell_type": "code",
   "execution_count": 30,
   "metadata": {},
   "outputs": [
    {
     "name": "stdout",
     "output_type": "stream",
     "text": [
      "Applying ICA to Evoked instance\n",
      "    Transforming to ICA space (25 components)\n",
      "    Zeroing out 1 ICA component\n",
      "    Projecting back using 58 PCA components\n"
     ]
    }
   ],
   "source": [
    "# Plot overlay of before and after eyeblink IC removal:\n",
    "ica.plot_overlay(eog_average, exclude=eog_inds);"
   ]
  },
  {
   "cell_type": "markdown",
   "metadata": {},
   "source": [
    "To register this component as a bad one to be remove, use the `ica.exclude` attribute. This is a simple Python list; i.e. append the problematic IC index to `exclude` attribute of the fitted ICA object."
   ]
  },
  {
   "cell_type": "code",
   "execution_count": 31,
   "metadata": {},
   "outputs": [],
   "source": [
    "# Add eyeblink IC index to exclude:\n",
    "ica.exclude.extend(eog_inds)"
   ]
  },
  {
   "cell_type": "markdown",
   "metadata": {},
   "source": [
    "Note that nothing is yet removed from the raw data. To remove the effects of the rejected components, the `.apply()` method of the fitted ICA object must be called on the data. This will reconstruct the data without any ICs in the `exclude` list. We apply the ICA transformation to a copy of the original raw data."
   ]
  },
  {
   "cell_type": "code",
   "execution_count": 32,
   "metadata": {},
   "outputs": [
    {
     "name": "stdout",
     "output_type": "stream",
     "text": [
      "Applying ICA to Raw instance\n",
      "    Transforming to ICA space (25 components)\n",
      "    Zeroing out 1 ICA component\n",
      "    Projecting back using 58 PCA components\n",
      "Overwriting existing file.\n",
      "Writing /Users/snastase/Work/neu502b-2023/neu502b-lab/elec-00/sub-01_task-audvis_preproc_raw.fif\n",
      "Closing /Users/snastase/Work/neu502b-2023/neu502b-lab/elec-00/sub-01_task-audvis_preproc_raw.fif\n",
      "[done]\n"
     ]
    }
   ],
   "source": [
    "# Copy filtered raw data\n",
    "data_ica = data_filtered.copy()\n",
    "\n",
    "# Apply ICA decomposition and transformation:\n",
    "ica.apply(data_ica)\n",
    "\n",
    "# Save preprocessed data:\n",
    "ica_fn = 'sub-01_task-audvis_preproc_raw.fif'\n",
    "data_ica.save(ica_fn, overwrite=True)"
   ]
  },
  {
   "cell_type": "markdown",
   "metadata": {},
   "source": [
    "Finally, interactive re-visualize the preprocessed EEG data using the data's `.plot()` method."
   ]
  },
  {
   "cell_type": "code",
   "execution_count": 33,
   "metadata": {},
   "outputs": [],
   "source": [
    "# Interactively plot preprocessed data:\n",
    "%matplotlib osx\n",
    "\n",
    "data_ica.plot();"
   ]
  },
  {
   "cell_type": "code",
   "execution_count": null,
   "metadata": {},
   "outputs": [],
   "source": []
  }
 ],
 "metadata": {
  "kernelspec": {
   "display_name": "Python 3 (ipykernel)",
   "language": "python",
   "name": "python3"
  },
  "language_info": {
   "codemirror_mode": {
    "name": "ipython",
    "version": 3
   },
   "file_extension": ".py",
   "mimetype": "text/x-python",
   "name": "python",
   "nbconvert_exporter": "python",
   "pygments_lexer": "ipython3",
   "version": "3.10.9"
  }
 },
 "nbformat": 4,
 "nbformat_minor": 4
}
