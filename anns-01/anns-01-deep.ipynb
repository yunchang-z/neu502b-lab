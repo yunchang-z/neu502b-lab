{
 "cells": [
  {
   "cell_type": "markdown",
   "id": "df2cae92-e267-4b37-8690-feabdd1e2f56",
   "metadata": {},
   "source": [
    "# `anns-01`: Deep learning\n",
    "In this lab, we'll explore some common architectures for deep neural networks. You'll need to install [PyTorch](https://pytorch.org/) in your conda environment: `conda install pytorch torchvision -c pytorch`."
   ]
  },
  {
   "cell_type": "code",
   "execution_count": 1,
   "id": "f328c71a-b067-4170-a3f2-2767915e4e3e",
   "metadata": {},
   "outputs": [],
   "source": [
    "import numpy as np\n",
    "import matplotlib.pyplot as plt\n",
    "import torch\n",
    "from torch import nn\n",
    "from torch.utils.data import DataLoader\n",
    "from torchvision import datasets, transforms"
   ]
  },
  {
   "cell_type": "code",
   "execution_count": 2,
   "id": "3102387a-8c7a-4a15-beab-328d8363c406",
   "metadata": {},
   "outputs": [
    {
     "name": "stdout",
     "output_type": "stream",
     "text": [
      "Using mps device\n"
     ]
    }
   ],
   "source": [
    "# Get device for training (e.g. MacOS 'mps')\n",
    "device = (\n",
    "    \"cuda\"\n",
    "    if torch.cuda.is_available()\n",
    "    else \"mps\"\n",
    "    if torch.backends.mps.is_available()\n",
    "    else \"cpu\"\n",
    ")\n",
    "print(f\"Using {device} device\")"
   ]
  },
  {
   "cell_type": "markdown",
   "id": "8108cfb6-d941-4bf8-99b9-dd4334f15c81",
   "metadata": {},
   "source": [
    "### Multilayer perceptron\n",
    "In the following exercise, we'll (de)construct a fully-connected feedforward network (i.e. multilayer perceptron; MLP). We'll use the rectified linear unit (ReLU) nonlinearity at hidden and output layers. This network will take as input pixels from MNIST images of handwritten digits and learn to output the correct digit label $0$ to $9$."
   ]
  },
  {
   "cell_type": "code",
   "execution_count": 3,
   "id": "1702790e-c550-46a2-9597-5f2dae3f2120",
   "metadata": {},
   "outputs": [],
   "source": [
    "class NeuralNetwork(nn.Module):\n",
    "    def __init__(self):\n",
    "        super().__init__()\n",
    "        self.flatten = nn.Flatten()\n",
    "        self.linear_relu_stack = nn.Sequential(\n",
    "            nn.Linear(28*28, 512),\n",
    "            nn.ReLU(),\n",
    "            nn.Linear(512, 512),\n",
    "            nn.ReLU(),\n",
    "            nn.Linear(512, 10),\n",
    "        )\n",
    "\n",
    "    def forward(self, x):\n",
    "        x = self.flatten(x)\n",
    "        logits = self.linear_relu_stack(x)\n",
    "        return logits"
   ]
  },
  {
   "cell_type": "code",
   "execution_count": 4,
   "id": "e096feb5-1b44-4a41-a249-738066afcece",
   "metadata": {},
   "outputs": [
    {
     "name": "stdout",
     "output_type": "stream",
     "text": [
      "NeuralNetwork(\n",
      "  (flatten): Flatten(start_dim=1, end_dim=-1)\n",
      "  (linear_relu_stack): Sequential(\n",
      "    (0): Linear(in_features=784, out_features=512, bias=True)\n",
      "    (1): ReLU()\n",
      "    (2): Linear(in_features=512, out_features=512, bias=True)\n",
      "    (3): ReLU()\n",
      "    (4): Linear(in_features=512, out_features=10, bias=True)\n",
      "  )\n",
      ")\n"
     ]
    }
   ],
   "source": [
    "model = NeuralNetwork().to(device)\n",
    "print(model)"
   ]
  },
  {
   "cell_type": "code",
   "execution_count": 5,
   "id": "5bca3432-7621-4be7-bf40-1b648e336f83",
   "metadata": {},
   "outputs": [
    {
     "name": "stdout",
     "output_type": "stream",
     "text": [
      "torch.Size([3, 28, 28])\n"
     ]
    }
   ],
   "source": [
    "# Create a random image and confirm shape\n",
    "input_image = torch.rand(3, 28, 28)\n",
    "print(input_image.size())"
   ]
  },
  {
   "cell_type": "code",
   "execution_count": 6,
   "id": "3eb69d88-a7f8-4dec-8d93-de0713f3f61b",
   "metadata": {},
   "outputs": [
    {
     "name": "stdout",
     "output_type": "stream",
     "text": [
      "torch.Size([3, 784])\n"
     ]
    }
   ],
   "source": [
    "# Flatten image and inspect shape\n",
    "flatten = nn.Flatten()\n",
    "flat_image = flatten(input_image)\n",
    "print(flat_image.size())"
   ]
  },
  {
   "cell_type": "code",
   "execution_count": 7,
   "id": "8a234b7e-8b6c-4a48-823e-ffdb72b0b3a6",
   "metadata": {},
   "outputs": [
    {
     "name": "stdout",
     "output_type": "stream",
     "text": [
      "torch.Size([3, 20])\n"
     ]
    }
   ],
   "source": [
    "# Pass flattened input image through first layer\n",
    "layer1 = nn.Linear(in_features=28*28, out_features=20)\n",
    "hidden1 = layer1(flat_image)\n",
    "print(hidden1.size())"
   ]
  },
  {
   "cell_type": "code",
   "execution_count": 8,
   "id": "2e2a36a4-1e7f-4608-af82-3b3855eb4eb8",
   "metadata": {},
   "outputs": [
    {
     "name": "stdout",
     "output_type": "stream",
     "text": [
      "Before ReLU: tensor([[-0.1585, -0.0761,  0.8172, -0.2947,  0.0818, -0.2155,  0.0335,  0.0949,\n",
      "         -0.1370,  0.0369,  0.4356,  0.0510,  0.5128,  0.3135, -0.7414,  0.0195,\n",
      "          0.3077, -0.2673,  0.1592, -0.2009],\n",
      "        [-0.1645,  0.2207,  0.5236, -0.4695,  0.0641,  0.0228,  0.3479, -0.1545,\n",
      "         -0.2638, -0.1316,  0.2148,  0.0836,  0.5628,  0.1235, -0.2305,  0.5003,\n",
      "          0.3878, -0.0635,  0.1874, -0.1378],\n",
      "        [-0.3326, -0.0190,  0.7332,  0.0631, -0.0890,  0.1963,  0.2606, -0.2756,\n",
      "         -0.4416, -0.0745,  0.1508, -0.4680,  0.5920,  0.1180, -0.5592,  0.2552,\n",
      "          0.4084,  0.0078,  0.4298, -0.2247]], grad_fn=<AddmmBackward0>)\n",
      "\n",
      "\n",
      "After ReLU: tensor([[0.0000, 0.0000, 0.8172, 0.0000, 0.0818, 0.0000, 0.0335, 0.0949, 0.0000,\n",
      "         0.0369, 0.4356, 0.0510, 0.5128, 0.3135, 0.0000, 0.0195, 0.3077, 0.0000,\n",
      "         0.1592, 0.0000],\n",
      "        [0.0000, 0.2207, 0.5236, 0.0000, 0.0641, 0.0228, 0.3479, 0.0000, 0.0000,\n",
      "         0.0000, 0.2148, 0.0836, 0.5628, 0.1235, 0.0000, 0.5003, 0.3878, 0.0000,\n",
      "         0.1874, 0.0000],\n",
      "        [0.0000, 0.0000, 0.7332, 0.0631, 0.0000, 0.1963, 0.2606, 0.0000, 0.0000,\n",
      "         0.0000, 0.1508, 0.0000, 0.5920, 0.1180, 0.0000, 0.2552, 0.4084, 0.0078,\n",
      "         0.4298, 0.0000]], grad_fn=<ReluBackward0>)\n"
     ]
    }
   ],
   "source": [
    "# Introduce nonlinearity ReLU\n",
    "print(f\"Before ReLU: {hidden1}\\n\\n\")\n",
    "hidden1 = nn.ReLU()(hidden1)\n",
    "print(f\"After ReLU: {hidden1}\")"
   ]
  },
  {
   "cell_type": "code",
   "execution_count": 9,
   "id": "a444a552-d5cc-43c7-9563-3c8c423a92c8",
   "metadata": {},
   "outputs": [],
   "source": [
    "# Chain these operations into sequence\n",
    "seq_modules = nn.Sequential(\n",
    "    flatten,\n",
    "    layer1,\n",
    "    nn.ReLU(),\n",
    "    nn.Linear(20, 10)\n",
    ")\n",
    "\n",
    "input_image = torch.rand(3,28,28)\n",
    "logits = seq_modules(input_image)"
   ]
  },
  {
   "cell_type": "code",
   "execution_count": 10,
   "id": "21dea576-0d0b-4c23-beb7-d536b603f1c2",
   "metadata": {},
   "outputs": [],
   "source": [
    "# Softmax predictions into probability distribution\n",
    "softmax = nn.Softmax(dim=1)\n",
    "pred_probab = softmax(logits)"
   ]
  },
  {
   "cell_type": "code",
   "execution_count": 11,
   "id": "6a466c77-510c-4df0-8058-b281e1e3181f",
   "metadata": {},
   "outputs": [],
   "source": [
    "# Download training data from open datasets.\n",
    "training_data = datasets.MNIST(\n",
    "    root=\"data\",\n",
    "    train=True,\n",
    "    download=True,\n",
    "    transform=transforms.ToTensor(),\n",
    ")\n",
    "\n",
    "# Download test data from open datasets.\n",
    "test_data = datasets.MNIST(\n",
    "    root=\"data\",\n",
    "    train=False,\n",
    "    download=True,\n",
    "    transform=transforms.ToTensor(),\n",
    ")"
   ]
  },
  {
   "cell_type": "code",
   "execution_count": 12,
   "id": "a6de37cc-4d19-4fe5-b2b2-31dacb6b9fb7",
   "metadata": {},
   "outputs": [
    {
     "name": "stdout",
     "output_type": "stream",
     "text": [
      "Shape of X [N, C, H, W]: torch.Size([64, 1, 28, 28])\n",
      "Shape of y: torch.Size([64]) torch.int64\n"
     ]
    }
   ],
   "source": [
    "batch_size = 64\n",
    "\n",
    "# Create data loaders\n",
    "train_dataloader = DataLoader(training_data, batch_size=batch_size)\n",
    "test_dataloader = DataLoader(test_data, batch_size=batch_size)\n",
    "\n",
    "for X, y in test_dataloader:\n",
    "    print(f\"Shape of X [N, C, H, W]: {X.shape}\")\n",
    "    print(f\"Shape of y: {y.shape} {y.dtype}\")\n",
    "    break"
   ]
  },
  {
   "cell_type": "code",
   "execution_count": 13,
   "id": "584752ad-2bc4-4fb9-b840-ed7cfb084030",
   "metadata": {},
   "outputs": [
    {
     "data": {
      "image/png": "[encoded data removed]",
      "text/plain": [
       "<Figure size 480x480 with 1 Axes>"
      ]
     },
     "metadata": {},
     "output_type": "display_data"
    }
   ],
   "source": [
    "# Visualize an example MNIST digit\n",
    "mnist_id = 0\n",
    "plt.matshow(X[mnist_id, 0], cmap='gray');"
   ]
  },
  {
   "cell_type": "code",
   "execution_count": 14,
   "id": "94da2dea-dde7-44f0-823d-ffdaabf738b1",
   "metadata": {},
   "outputs": [
    {
     "name": "stdout",
     "output_type": "stream",
     "text": [
      "NeuralNetwork(\n",
      "  (flatten): Flatten(start_dim=1, end_dim=-1)\n",
      "  (linear_relu_stack): Sequential(\n",
      "    (0): Linear(in_features=784, out_features=512, bias=True)\n",
      "    (1): ReLU()\n",
      "    (2): Linear(in_features=512, out_features=512, bias=True)\n",
      "    (3): ReLU()\n",
      "    (4): Linear(in_features=512, out_features=10, bias=True)\n",
      "  )\n",
      ")\n"
     ]
    }
   ],
   "source": [
    "# Redefine our model\n",
    "class NeuralNetwork(nn.Module):\n",
    "    def __init__(self):\n",
    "        super().__init__()\n",
    "        \n",
    "        self.flatten = nn.Flatten()\n",
    "        self.linear_relu_stack = nn.Sequential(\n",
    "            nn.Linear(28*28, 512),\n",
    "            nn.ReLU(),\n",
    "            nn.Linear(512, 512),\n",
    "            nn.ReLU(),\n",
    "            nn.Linear(512, 10)\n",
    "        )\n",
    "\n",
    "    def forward(self, x):\n",
    "        x = self.flatten(x)\n",
    "        logits = self.linear_relu_stack(x)\n",
    "        return logits\n",
    "\n",
    "model = NeuralNetwork().to(device)\n",
    "print(model)"
   ]
  },
  {
   "cell_type": "code",
   "execution_count": 15,
   "id": "33778971-6d2d-4220-b992-267f354ba2f7",
   "metadata": {},
   "outputs": [],
   "source": [
    "# Define a loss function and optimizer\n",
    "loss_fn = nn.CrossEntropyLoss()\n",
    "optimizer = torch.optim.SGD(model.parameters(), lr=1e-3)"
   ]
  },
  {
   "cell_type": "code",
   "execution_count": 16,
   "id": "81df5516-9ea1-4b66-a89d-568b947bb3c5",
   "metadata": {},
   "outputs": [],
   "source": [
    "def train(dataloader, model, loss_fn, optimizer):\n",
    "    size = len(dataloader.dataset)\n",
    "\n",
    "    # Train the model\n",
    "    model.train()\n",
    "    \n",
    "    for batch, (X, y) in enumerate(dataloader):\n",
    "        X, y = X.to(device), y.to(device)\n",
    "\n",
    "        # Compute prediction error\n",
    "        pred = model(X)\n",
    "        loss = loss_fn(pred, y)\n",
    "\n",
    "        # Clear gradients for this training step\n",
    "        optimizer.zero_grad()\n",
    "        \n",
    "        # Compute gradients via backpropagation\n",
    "        loss.backward()\n",
    "        \n",
    "        # Apply gradients\n",
    "        optimizer.step()\n",
    "\n",
    "        if batch % 100 == 0:\n",
    "            loss, current = loss.item(), batch * len(X)\n",
    "            print(f\"loss: {loss:>7f}  [{current:>5d}/{size:>5d}]\")"
   ]
  },
  {
   "cell_type": "code",
   "execution_count": 17,
   "id": "16be8b49-379c-4eb5-ae1d-b3f22bdab415",
   "metadata": {},
   "outputs": [],
   "source": [
    "def test(dataloader, model, loss_fn):\n",
    "    size = len(dataloader.dataset)\n",
    "    num_batches = len(dataloader)\n",
    "    \n",
    "    # Test the model\n",
    "    model.eval()\n",
    "\n",
    "    test_loss, correct = 0, 0\n",
    "    with torch.no_grad():\n",
    "        for X, y in dataloader:\n",
    "            X, y = X.to(device), y.to(device)\n",
    "            \n",
    "            # Compute model predictions on test set\n",
    "            pred = model(X)\n",
    "            \n",
    "            # Compute loss between predicted and actual labels\n",
    "            test_loss += loss_fn(pred, y).item()\n",
    "            \n",
    "            # Number correct for accuracy\n",
    "            correct += (pred.max(axis=1).indices == y).type(torch.float).sum().item()\n",
    "    test_loss /= num_batches\n",
    "    correct /= size\n",
    "    print(f\"Test error: \\n Accuracy: {(100*correct):>0.1f}%, mean loss: {test_loss:>8f} \\n\")"
   ]
  },
  {
   "cell_type": "code",
   "execution_count": 18,
   "id": "2790151c-33e6-45af-a5dd-274d9b86de9f",
   "metadata": {},
   "outputs": [
    {
     "name": "stdout",
     "output_type": "stream",
     "text": [
      "Epoch 1\n",
      "-------------------------------\n",
      "loss: 2.310624  [    0/60000]\n",
      "loss: 2.305503  [ 6400/60000]\n",
      "loss: 2.291320  [12800/60000]\n",
      "loss: 2.280551  [19200/60000]\n",
      "loss: 2.293427  [25600/60000]\n",
      "loss: 2.285117  [32000/60000]\n",
      "loss: 2.264528  [38400/60000]\n",
      "loss: 2.275290  [44800/60000]\n",
      "loss: 2.263194  [51200/60000]\n",
      "loss: 2.235015  [57600/60000]\n",
      "Test error: \n",
      " Accuracy: 29.3%, mean loss: 2.255978 \n",
      "\n",
      "Epoch 2\n",
      "-------------------------------\n",
      "loss: 2.262526  [    0/60000]\n",
      "loss: 2.255690  [ 6400/60000]\n",
      "loss: 2.249236  [12800/60000]\n",
      "loss: 2.217116  [19200/60000]\n",
      "loss: 2.243402  [25600/60000]\n",
      "loss: 2.233561  [32000/60000]\n",
      "loss: 2.203324  [38400/60000]\n",
      "loss: 2.227207  [44800/60000]\n",
      "loss: 2.199746  [51200/60000]\n",
      "loss: 2.164375  [57600/60000]\n",
      "Test error: \n",
      " Accuracy: 47.9%, mean loss: 2.187573 \n",
      "\n",
      "Epoch 3\n",
      "-------------------------------\n",
      "loss: 2.192581  [    0/60000]\n",
      "loss: 2.180966  [ 6400/60000]\n",
      "loss: 2.184733  [12800/60000]\n",
      "loss: 2.119088  [19200/60000]\n",
      "loss: 2.162790  [25600/60000]\n",
      "loss: 2.148340  [32000/60000]\n",
      "loss: 2.101796  [38400/60000]\n",
      "loss: 2.143165  [44800/60000]\n",
      "loss: 2.091016  [51200/60000]\n",
      "loss: 2.044850  [57600/60000]\n",
      "Test error: \n",
      " Accuracy: 61.4%, mean loss: 2.069307 \n",
      "\n",
      "Epoch 4\n",
      "-------------------------------\n",
      "loss: 2.073507  [    0/60000]\n",
      "loss: 2.051168  [ 6400/60000]\n",
      "loss: 2.071557  [12800/60000]\n",
      "loss: 1.952809  [19200/60000]\n",
      "loss: 2.016578  [25600/60000]\n",
      "loss: 1.994779  [32000/60000]\n",
      "loss: 1.928623  [38400/60000]\n",
      "loss: 1.992774  [44800/60000]\n",
      "loss: 1.903234  [51200/60000]\n",
      "loss: 1.845471  [57600/60000]\n",
      "Test error: \n",
      " Accuracy: 68.7%, mean loss: 1.865728 \n",
      "\n",
      "Epoch 5\n",
      "-------------------------------\n",
      "loss: 1.874602  [    0/60000]\n",
      "loss: 1.830744  [ 6400/60000]\n",
      "loss: 1.872694  [12800/60000]\n",
      "loss: 1.691252  [19200/60000]\n",
      "loss: 1.766224  [25600/60000]\n",
      "loss: 1.733853  [32000/60000]\n",
      "loss: 1.661858  [38400/60000]\n",
      "loss: 1.753852  [44800/60000]\n",
      "loss: 1.624973  [51200/60000]\n",
      "loss: 1.560007  [57600/60000]\n",
      "Test error: \n",
      " Accuracy: 73.6%, mean loss: 1.566632 \n",
      "\n",
      "Done!\n"
     ]
    }
   ],
   "source": [
    "# Fit the model!\n",
    "epochs = 5\n",
    "for t in range(epochs):\n",
    "    print(f\"Epoch {t+1}\\n-------------------------------\")\n",
    "    train(train_dataloader, model, loss_fn, optimizer)\n",
    "    test(test_dataloader, model, loss_fn)\n",
    "print(\"Done!\")"
   ]
  },
  {
   "cell_type": "code",
   "execution_count": 19,
   "id": "2a858308-1bce-41a3-8c98-36d21abc5063",
   "metadata": {},
   "outputs": [
    {
     "name": "stdout",
     "output_type": "stream",
     "text": [
      "Predicted: \"6\", Actual: \"5\"\n"
     ]
    },
    {
     "data": {
      "image/png": "[encoded data removed]",
      "text/plain": [
       "<Figure size 480x480 with 1 Axes>"
      ]
     },
     "metadata": {},
     "output_type": "display_data"
    }
   ],
   "source": [
    "# Visualize model predictions from the test set\n",
    "classes = np.arange(10)\n",
    "test_id = 8\n",
    "\n",
    "x, y = test_data[test_id][0], test_data[test_id][1]\n",
    "with torch.no_grad():\n",
    "    plt.matshow(x[0], cmap='gray')\n",
    "    x, y = x.to(device), y\n",
    "    pred = model(x)\n",
    "    predicted, actual = classes[pred.max(axis=1).indices], classes[y]\n",
    "    print(f'Predicted: \"{predicted}\", Actual: \"{actual}\"')"
   ]
  },
  {
   "cell_type": "markdown",
   "id": "87c7f659-6906-4b8d-b75b-c80595dc3d44",
   "metadata": {},
   "source": [
    "### Convolutional neural network\n",
    "In this excercise, we'll perform the same digit recognition task using a convolutional neural network (CNN). For brevity, the CNN will comprise two convolutional layers followed by max-pooling layers, culminating in a single fully-connected layer. "
   ]
  },
  {
   "cell_type": "code",
   "execution_count": 20,
   "id": "b90f50eb-9d4f-4d4f-9048-399992ae5c6d",
   "metadata": {},
   "outputs": [
    {
     "name": "stdout",
     "output_type": "stream",
     "text": [
      "ConvNet(\n",
      "  (conv1): Sequential(\n",
      "    (0): Conv2d(1, 16, kernel_size=(4, 4), stride=(1, 1), padding=(2, 2))\n",
      "    (1): ReLU()\n",
      "    (2): MaxPool2d(kernel_size=2, stride=2, padding=0, dilation=1, ceil_mode=False)\n",
      "  )\n",
      "  (conv2): Sequential(\n",
      "    (0): Conv2d(16, 32, kernel_size=(4, 4), stride=(1, 1), padding=(2, 2))\n",
      "    (1): ReLU()\n",
      "    (2): MaxPool2d(kernel_size=2, stride=2, padding=0, dilation=1, ceil_mode=False)\n",
      "  )\n",
      "  (out): Linear(in_features=1568, out_features=10, bias=True)\n",
      ")\n"
     ]
    }
   ],
   "source": [
    "class ConvNet(nn.Module):\n",
    "    def __init__(self):\n",
    "        super(ConvNet, self).__init__()\n",
    "\n",
    "        self.conv1 = nn.Sequential(         \n",
    "            nn.Conv2d(\n",
    "                in_channels=1,              \n",
    "                out_channels=16,            \n",
    "                kernel_size=4,              \n",
    "                stride=1,                   \n",
    "                padding=2,                  \n",
    "            ),                              \n",
    "            nn.ReLU(),                      \n",
    "            nn.MaxPool2d(kernel_size=2),    \n",
    "        )\n",
    "        self.conv2 = nn.Sequential(         \n",
    "            nn.Conv2d(16, 32, 4, 1, 2),     \n",
    "            nn.ReLU(),                      \n",
    "            nn.MaxPool2d(2),                \n",
    "        )\n",
    "\n",
    "        # Fully connected layer outputs 10 classes\n",
    "        self.out = nn.Linear(32 * 7 * 7, 10)\n",
    "\n",
    "    def forward(self, x):\n",
    "        x = self.conv1(x)\n",
    "        x = self.conv2(x)\n",
    "\n",
    "        # Flatten the output of conv2 to (batch_size, 32 * 7 * 7)\n",
    "        x = x.view(x.size(0), -1)       \n",
    "        output = self.out(x)\n",
    "        return output\n",
    "\n",
    "model = ConvNet().to(device)\n",
    "print(model)"
   ]
  },
  {
   "cell_type": "code",
   "execution_count": null,
   "id": "62cbf5dd-6d0b-45b8-9458-e359cace5328",
   "metadata": {},
   "outputs": [],
   "source": [
    "# Define same loss and optimizer as above\n",
    "loss_fn = nn.CrossEntropyLoss()\n",
    "optimizer = torch.optim.SGD(model.parameters(), lr=1e-3)"
   ]
  },
  {
   "cell_type": "code",
   "execution_count": null,
   "id": "18f60dea-266e-4763-9b3b-b3238305f6d3",
   "metadata": {},
   "outputs": [
    {
     "name": "stdout",
     "output_type": "stream",
     "text": [
      "Epoch 1\n",
      "-------------------------------\n",
      "loss: 2.301215  [    0/60000]\n",
      "loss: 2.286668  [ 6400/60000]\n",
      "loss: 2.272518  [12800/60000]\n",
      "loss: 2.255121  [19200/60000]\n",
      "loss: 2.246310  [25600/60000]\n",
      "loss: 2.242125  [32000/60000]\n",
      "loss: 2.194222  [38400/60000]\n",
      "loss: 2.201905  [44800/60000]\n",
      "loss: 2.153085  [51200/60000]\n",
      "loss: 2.086468  [57600/60000]\n",
      "Test error: \n",
      " Accuracy: 63.5%, mean loss: 2.085685 \n",
      "\n",
      "Epoch 2\n",
      "-------------------------------\n",
      "loss: 2.096876  [    0/60000]\n",
      "loss: 2.009386  [ 6400/60000]\n",
      "loss: 1.973640  [12800/60000]\n",
      "loss: 1.821295  [19200/60000]\n",
      "loss: 1.735722  [25600/60000]\n",
      "loss: 1.620451  [32000/60000]\n",
      "loss: 1.373021  [38400/60000]\n",
      "loss: 1.417534  [44800/60000]\n",
      "loss: 1.186285  [51200/60000]\n",
      "loss: 1.018133  [57600/60000]\n",
      "Test error: \n",
      " Accuracy: 79.4%, mean loss: 0.962633 \n",
      "\n",
      "Epoch 3\n",
      "-------------------------------\n",
      "loss: 1.001786  [    0/60000]\n",
      "loss: 0.791728  [ 6400/60000]\n",
      "loss: 0.767685  [12800/60000]\n",
      "loss: 0.719919  [19200/60000]\n",
      "loss: 0.657966  [25600/60000]\n",
      "loss: 0.634363  [32000/60000]\n",
      "loss: 0.502056  [38400/60000]\n",
      "loss: 0.697732  [44800/60000]\n",
      "loss: 0.622378  [51200/60000]\n",
      "loss: 0.563141  [57600/60000]\n",
      "Test error: \n",
      " Accuracy: 85.9%, mean loss: 0.518135 \n",
      "\n",
      "Epoch 4\n",
      "-------------------------------\n",
      "loss: 0.548324  [    0/60000]\n",
      "loss: 0.458907  [ 6400/60000]\n",
      "loss: 0.413920  [12800/60000]\n",
      "loss: 0.479900  [19200/60000]\n",
      "loss: 0.438459  [25600/60000]\n",
      "loss: 0.459988  [32000/60000]\n",
      "loss: 0.327320  [38400/60000]\n",
      "loss: 0.532391  [44800/60000]\n",
      "loss: 0.491124  [51200/60000]\n",
      "loss: 0.475855  [57600/60000]\n",
      "Test error: \n",
      " Accuracy: 88.3%, mean loss: 0.410592 \n",
      "\n",
      "Epoch 5\n",
      "-------------------------------\n",
      "loss: 0.430083  [    0/60000]\n",
      "loss: 0.389271  [ 6400/60000]\n",
      "loss: 0.317539  [12800/60000]\n",
      "loss: 0.411255  [19200/60000]\n",
      "loss: 0.353367  [25600/60000]\n",
      "loss: 0.410035  [32000/60000]\n",
      "loss: 0.256038  [38400/60000]\n",
      "loss: 0.470758  [44800/60000]\n",
      "loss: 0.428096  [51200/60000]\n",
      "loss: 0.444553  [57600/60000]\n",
      "Test error: \n",
      " Accuracy: 89.5%, mean loss: 0.361480 \n",
      "\n",
      "Done!\n"
     ]
    }
   ],
   "source": [
    "# Fit the model!\n",
    "epochs = 5\n",
    "for t in range(epochs):\n",
    "    print(f\"Epoch {t+1}\\n-------------------------------\")\n",
    "    train(train_dataloader, model, loss_fn, optimizer)\n",
    "    test(test_dataloader, model, loss_fn)\n",
    "print(\"Done!\")"
   ]
  }
 ],
 "metadata": {
  "kernelspec": {
   "display_name": "Python 3 (ipykernel)",
   "language": "python",
   "name": "python3"
  },
  "language_info": {
   "codemirror_mode": {
    "name": "ipython",
    "version": 3
   },
   "file_extension": ".py",
   "mimetype": "text/x-python",
   "name": "python",
   "nbconvert_exporter": "python",
   "pygments_lexer": "ipython3",
   "version": "3.9.16"
  }
 },
 "nbformat": 4,
 "nbformat_minor": 5
}
